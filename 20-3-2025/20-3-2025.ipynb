{
 "cells": [
  {
   "cell_type": "markdown",
   "id": "9f979c3a",
   "metadata": {},
   "source": [
    "# Introduction to numPy"
   ]
  },
  {
   "cell_type": "code",
   "execution_count": 1,
   "id": "23551f99",
   "metadata": {},
   "outputs": [],
   "source": [
    "import numpy as np"
   ]
  },
  {
   "cell_type": "code",
   "execution_count": 2,
   "id": "e677d6c2",
   "metadata": {
    "scrolled": true
   },
   "outputs": [
    {
     "name": "stdout",
     "output_type": "stream",
     "text": [
      "[1 2 3 4 5]\n"
     ]
    }
   ],
   "source": [
    "a = np.array([1,2,3,4,5])\n",
    "print(a)"
   ]
  },
  {
   "cell_type": "code",
   "execution_count": 3,
   "id": "73975687",
   "metadata": {},
   "outputs": [
    {
     "name": "stdout",
     "output_type": "stream",
     "text": [
      "[1 3 6 7]\n"
     ]
    }
   ],
   "source": [
    "b = np.array((1,3,6,7))\n",
    "print(b)"
   ]
  },
  {
   "cell_type": "code",
   "execution_count": 7,
   "id": "a52a407e",
   "metadata": {},
   "outputs": [
    {
     "data": {
      "text/plain": [
       "dtype('int32')"
      ]
     },
     "execution_count": 7,
     "metadata": {},
     "output_type": "execute_result"
    }
   ],
   "source": [
    "a.dtype"
   ]
  },
  {
   "cell_type": "code",
   "execution_count": 8,
   "id": "90798d79",
   "metadata": {},
   "outputs": [
    {
     "data": {
      "text/plain": [
       "dtype('int32')"
      ]
     },
     "execution_count": 8,
     "metadata": {},
     "output_type": "execute_result"
    }
   ],
   "source": [
    "b.dtype"
   ]
  },
  {
   "cell_type": "code",
   "execution_count": 9,
   "id": "cc0c9c3d",
   "metadata": {},
   "outputs": [
    {
     "data": {
      "text/plain": [
       "numpy.ndarray"
      ]
     },
     "execution_count": 9,
     "metadata": {},
     "output_type": "execute_result"
    }
   ],
   "source": [
    "type(a)"
   ]
  },
  {
   "cell_type": "code",
   "execution_count": 10,
   "id": "0f372f5a",
   "metadata": {},
   "outputs": [
    {
     "data": {
      "text/plain": [
       "numpy.ndarray"
      ]
     },
     "execution_count": 10,
     "metadata": {},
     "output_type": "execute_result"
    }
   ],
   "source": [
    "type(b)"
   ]
  },
  {
   "cell_type": "code",
   "execution_count": 11,
   "id": "2aa8c1af",
   "metadata": {},
   "outputs": [],
   "source": [
    "a = np.array([1,2,3,4,5],dtype='i')"
   ]
  },
  {
   "cell_type": "code",
   "execution_count": 12,
   "id": "e31139e3",
   "metadata": {},
   "outputs": [
    {
     "data": {
      "text/plain": [
       "dtype('int32')"
      ]
     },
     "execution_count": 12,
     "metadata": {},
     "output_type": "execute_result"
    }
   ],
   "source": [
    "a.dtype"
   ]
  },
  {
   "cell_type": "code",
   "execution_count": 13,
   "id": "912c0e4b",
   "metadata": {},
   "outputs": [],
   "source": [
    "b = np.array([1,2,3,4,5],dtype='f')"
   ]
  },
  {
   "cell_type": "code",
   "execution_count": 14,
   "id": "06ef7c59",
   "metadata": {},
   "outputs": [
    {
     "data": {
      "text/plain": [
       "dtype('float32')"
      ]
     },
     "execution_count": 14,
     "metadata": {},
     "output_type": "execute_result"
    }
   ],
   "source": [
    "b.dtype"
   ]
  },
  {
   "cell_type": "markdown",
   "id": "eb9a0c5e",
   "metadata": {},
   "source": [
    "# NumPy dimensions(shape,size,btyes)"
   ]
  },
  {
   "cell_type": "code",
   "execution_count": 17,
   "id": "cceb05e9",
   "metadata": {},
   "outputs": [
    {
     "name": "stdout",
     "output_type": "stream",
     "text": [
      "2\n"
     ]
    }
   ],
   "source": [
    "a = np.array([[1,2,3],[2,3,4]])\n",
    "print(a.ndim)"
   ]
  },
  {
   "cell_type": "code",
   "execution_count": 19,
   "id": "7a30ff9d",
   "metadata": {},
   "outputs": [
    {
     "name": "stdout",
     "output_type": "stream",
     "text": [
      "3\n"
     ]
    }
   ],
   "source": [
    "b = np.array([[[1,23,3],[4,5,6]],[[7,89,9],[4,6,9]]])\n",
    "print(b.ndim)"
   ]
  },
  {
   "cell_type": "code",
   "execution_count": 24,
   "id": "d7523a9c",
   "metadata": {},
   "outputs": [
    {
     "name": "stdout",
     "output_type": "stream",
     "text": [
      "2 2 3\n"
     ]
    }
   ],
   "source": [
    "print(b.shape[0],b.shape[1],b.shape[2])"
   ]
  },
  {
   "cell_type": "code",
   "execution_count": 22,
   "id": "dcfcf66e",
   "metadata": {},
   "outputs": [
    {
     "name": "stdout",
     "output_type": "stream",
     "text": [
      "9\n"
     ]
    }
   ],
   "source": [
    "print(b[1,0,2])"
   ]
  },
  {
   "cell_type": "code",
   "execution_count": 25,
   "id": "8a4a4ab9",
   "metadata": {},
   "outputs": [],
   "source": [
    "C = np.array([[[1,2,3],[2,3,4],[0,9,8]],[[2,3,4],[4,5,6],[7,8,9]]])"
   ]
  },
  {
   "cell_type": "code",
   "execution_count": 26,
   "id": "4c2d5a0b",
   "metadata": {},
   "outputs": [
    {
     "data": {
      "text/plain": [
       "numpy.ndarray"
      ]
     },
     "execution_count": 26,
     "metadata": {},
     "output_type": "execute_result"
    }
   ],
   "source": [
    "type(C)"
   ]
  },
  {
   "cell_type": "code",
   "execution_count": 28,
   "id": "8c552298",
   "metadata": {},
   "outputs": [
    {
     "data": {
      "text/plain": [
       "dtype('int32')"
      ]
     },
     "execution_count": 28,
     "metadata": {},
     "output_type": "execute_result"
    }
   ],
   "source": [
    "C.dtype"
   ]
  },
  {
   "cell_type": "code",
   "execution_count": 29,
   "id": "c7f6291b",
   "metadata": {},
   "outputs": [
    {
     "data": {
      "text/plain": [
       "2"
      ]
     },
     "execution_count": 29,
     "metadata": {},
     "output_type": "execute_result"
    }
   ],
   "source": [
    "C.shape[0]"
   ]
  },
  {
   "cell_type": "code",
   "execution_count": 30,
   "id": "ce2f0447",
   "metadata": {},
   "outputs": [
    {
     "data": {
      "text/plain": [
       "3"
      ]
     },
     "execution_count": 30,
     "metadata": {},
     "output_type": "execute_result"
    }
   ],
   "source": [
    "C.shape[1]"
   ]
  },
  {
   "cell_type": "code",
   "execution_count": 31,
   "id": "c2c53af2",
   "metadata": {},
   "outputs": [
    {
     "data": {
      "text/plain": [
       "1"
      ]
     },
     "execution_count": 31,
     "metadata": {},
     "output_type": "execute_result"
    }
   ],
   "source": [
    "a = np.array([4])\n",
    "a.ndim"
   ]
  },
  {
   "cell_type": "code",
   "execution_count": 32,
   "id": "6b048385",
   "metadata": {},
   "outputs": [
    {
     "data": {
      "text/plain": [
       "0"
      ]
     },
     "execution_count": 32,
     "metadata": {},
     "output_type": "execute_result"
    }
   ],
   "source": [
    "b = np.array(9)\n",
    "b.ndim"
   ]
  },
  {
   "cell_type": "code",
   "execution_count": 34,
   "id": "0300e328",
   "metadata": {},
   "outputs": [
    {
     "data": {
      "text/plain": [
       "72"
      ]
     },
     "execution_count": 34,
     "metadata": {},
     "output_type": "execute_result"
    }
   ],
   "source": [
    "C.nbytes"
   ]
  },
  {
   "cell_type": "code",
   "execution_count": 35,
   "id": "839405d7",
   "metadata": {},
   "outputs": [
    {
     "data": {
      "text/plain": [
       "18"
      ]
     },
     "execution_count": 35,
     "metadata": {},
     "output_type": "execute_result"
    }
   ],
   "source": [
    "C.size"
   ]
  },
  {
   "cell_type": "markdown",
   "id": "9df56931",
   "metadata": {},
   "source": [
    "# numPy(arange,reshape,random)"
   ]
  },
  {
   "cell_type": "code",
   "execution_count": 37,
   "id": "43893aaa",
   "metadata": {},
   "outputs": [
    {
     "data": {
      "text/plain": [
       "array([ 0,  1,  2,  3,  4,  5,  6,  7,  8,  9, 10, 11, 12, 13, 14, 15, 16,\n",
       "       17, 18, 19, 20, 21, 22, 23, 24, 25, 26, 27, 28, 29, 30, 31, 32, 33,\n",
       "       34, 35, 36, 37, 38, 39, 40, 41, 42, 43, 44, 45, 46, 47, 48, 49, 50,\n",
       "       51, 52, 53, 54, 55, 56, 57, 58, 59, 60, 61, 62, 63, 64, 65, 66, 67,\n",
       "       68, 69, 70, 71, 72, 73, 74, 75, 76, 77, 78, 79, 80, 81, 82, 83, 84,\n",
       "       85, 86, 87, 88, 89, 90, 91, 92, 93, 94, 95, 96, 97, 98, 99])"
      ]
     },
     "execution_count": 37,
     "metadata": {},
     "output_type": "execute_result"
    }
   ],
   "source": [
    "a=np.arange(100)\n",
    "a"
   ]
  },
  {
   "cell_type": "code",
   "execution_count": 38,
   "id": "93da8a1c",
   "metadata": {},
   "outputs": [
    {
     "data": {
      "text/plain": [
       "array([20, 21, 22, 23, 24, 25, 26, 27, 28, 29, 30, 31, 32, 33, 34, 35, 36,\n",
       "       37, 38, 39, 40, 41, 42, 43, 44, 45, 46, 47, 48, 49, 50, 51, 52, 53,\n",
       "       54, 55, 56, 57, 58, 59, 60, 61, 62, 63, 64, 65, 66, 67, 68, 69, 70,\n",
       "       71, 72, 73, 74, 75, 76, 77, 78, 79, 80, 81, 82, 83, 84, 85, 86, 87,\n",
       "       88, 89, 90, 91, 92, 93, 94, 95, 96, 97, 98, 99])"
      ]
     },
     "execution_count": 38,
     "metadata": {},
     "output_type": "execute_result"
    }
   ],
   "source": [
    "a = np.arange(20,100)\n",
    "a"
   ]
  },
  {
   "cell_type": "code",
   "execution_count": 39,
   "id": "b4ed67f0",
   "metadata": {},
   "outputs": [
    {
     "data": {
      "text/plain": [
       "array([20, 23, 26, 29, 32, 35, 38, 41, 44, 47, 50, 53, 56, 59, 62, 65, 68,\n",
       "       71, 74, 77, 80, 83, 86, 89, 92, 95, 98])"
      ]
     },
     "execution_count": 39,
     "metadata": {},
     "output_type": "execute_result"
    }
   ],
   "source": [
    "a = np.arange(20,100,3)#for i in range(20,100,3)\n",
    "a"
   ]
  },
  {
   "cell_type": "code",
   "execution_count": 40,
   "id": "ac61d2ce",
   "metadata": {},
   "outputs": [
    {
     "name": "stdout",
     "output_type": "stream",
     "text": [
      "range(0, 10)\n"
     ]
    }
   ],
   "source": [
    "print(range(10))"
   ]
  },
  {
   "cell_type": "code",
   "execution_count": 41,
   "id": "6644c19f",
   "metadata": {},
   "outputs": [
    {
     "name": "stdout",
     "output_type": "stream",
     "text": [
      "[0, 1, 2, 3, 4, 5, 6, 7, 8, 9]\n"
     ]
    }
   ],
   "source": [
    "print(list(range(10)))"
   ]
  },
  {
   "cell_type": "code",
   "execution_count": 42,
   "id": "8a7f911b",
   "metadata": {},
   "outputs": [
    {
     "name": "stdout",
     "output_type": "stream",
     "text": [
      "(0, 1, 2, 3, 4, 5, 6, 7, 8, 9, 10, 11, 12, 13, 14, 15, 16, 17, 18, 19, 20, 21, 22)\n"
     ]
    }
   ],
   "source": [
    "print(tuple(range(23)))"
   ]
  },
  {
   "cell_type": "code",
   "execution_count": 44,
   "id": "36003bd9",
   "metadata": {},
   "outputs": [
    {
     "data": {
      "text/plain": [
       "array([ 0,  1, 11,  8, 18, 12,  3,  2, 17,  4,  6,  9, 10, 19,  5,  7, 16,\n",
       "       14, 15, 13])"
      ]
     },
     "execution_count": 44,
     "metadata": {},
     "output_type": "execute_result"
    }
   ],
   "source": [
    "a = np.random.permutation(np.arange(20))\n",
    "a"
   ]
  },
  {
   "cell_type": "code",
   "execution_count": 45,
   "id": "8f56a555",
   "metadata": {},
   "outputs": [
    {
     "data": {
      "text/plain": [
       "12"
      ]
     },
     "execution_count": 45,
     "metadata": {},
     "output_type": "execute_result"
    }
   ],
   "source": [
    "np.random.randint(9,17)"
   ]
  },
  {
   "cell_type": "code",
   "execution_count": 46,
   "id": "e8ea47b1",
   "metadata": {},
   "outputs": [
    {
     "data": {
      "text/plain": [
       "array([[ 0,  1, 11,  8, 18, 12,  3,  2, 17,  4],\n",
       "       [ 6,  9, 10, 19,  5,  7, 16, 14, 15, 13]])"
      ]
     },
     "execution_count": 46,
     "metadata": {},
     "output_type": "execute_result"
    }
   ],
   "source": [
    "n = a.reshape(2,10)\n",
    "n"
   ]
  },
  {
   "cell_type": "code",
   "execution_count": 49,
   "id": "e45844cc",
   "metadata": {},
   "outputs": [
    {
     "data": {
      "text/plain": [
       "array([6.99632681e-01, 1.79762074e-01, 9.96576937e-01, 7.81942757e-01,\n",
       "       8.98618544e-01, 2.46091827e-02, 2.78390658e-01, 8.69944586e-02,\n",
       "       1.65802401e-01, 4.92000999e-02, 6.16069415e-01, 4.76416171e-01,\n",
       "       6.58440271e-01, 6.82439410e-01, 2.76891186e-01, 1.56530655e-02,\n",
       "       9.57610270e-01, 7.80863264e-01, 9.59373348e-01, 7.08073783e-02,\n",
       "       9.97536248e-01, 4.82347339e-01, 7.69920407e-01, 1.44822394e-01,\n",
       "       7.25672767e-01, 5.05604458e-01, 1.74731858e-01, 9.11656734e-01,\n",
       "       4.53580661e-01, 8.58687707e-01, 7.99537037e-01, 4.04840637e-03,\n",
       "       9.77155356e-01, 2.10590191e-01, 5.55262431e-01, 7.12313867e-01,\n",
       "       6.53520703e-01, 9.68517731e-01, 9.70840725e-01, 9.97427825e-01,\n",
       "       7.67473880e-02, 8.62769507e-01, 6.33173321e-01, 9.42678142e-01,\n",
       "       6.43224278e-01, 9.36384820e-01, 4.96369469e-02, 1.53038617e-01,\n",
       "       9.60918589e-01, 3.89769572e-01, 9.38093849e-01, 9.29831412e-01,\n",
       "       6.41066993e-01, 4.26429220e-01, 4.53020499e-02, 4.84495691e-02,\n",
       "       5.59684358e-01, 5.71663802e-01, 3.49967750e-01, 8.08120371e-01,\n",
       "       4.26545215e-01, 7.25244573e-01, 5.80760074e-01, 1.32770276e-01,\n",
       "       4.62797149e-01, 9.77163997e-02, 9.99661296e-03, 9.07543238e-01,\n",
       "       9.29097982e-01, 2.65028895e-01, 6.80226324e-01, 4.40760431e-01,\n",
       "       5.51474421e-01, 8.47613027e-01, 2.26722952e-01, 9.62319695e-01,\n",
       "       7.81319345e-01, 5.79566456e-01, 1.66521836e-01, 9.79772614e-02,\n",
       "       9.97233705e-01, 5.59951476e-01, 3.38463174e-01, 1.00200371e-01,\n",
       "       4.88380341e-01, 1.00436698e-02, 1.49495740e-01, 4.03306379e-01,\n",
       "       1.38497855e-01, 5.18470741e-01, 1.45267634e-01, 4.80693419e-01,\n",
       "       5.86541190e-01, 4.45055107e-01, 3.77206202e-01, 7.04955983e-01,\n",
       "       1.41044956e-03, 5.61446967e-01, 6.41833455e-01, 9.54282748e-02,\n",
       "       1.85586497e-01, 3.18093117e-01, 1.84631612e-01, 3.51710319e-01,\n",
       "       1.27251905e-01, 2.53906398e-01, 4.89088734e-01, 8.12664728e-01,\n",
       "       9.23940705e-01, 6.27046031e-01, 3.49065507e-01, 5.57456211e-01,\n",
       "       8.75193334e-01, 9.40859395e-01, 8.65489142e-01, 2.05854049e-01,\n",
       "       3.81272265e-02, 1.17501207e-01, 6.09689892e-01, 8.99274671e-01,\n",
       "       7.73111799e-01, 3.70233801e-01, 4.65117948e-01, 4.48620283e-01,\n",
       "       3.90719343e-02, 8.63851665e-01, 6.92327901e-01, 1.12225274e-01,\n",
       "       5.25324267e-01, 6.10075995e-01, 2.91496883e-01, 1.26950237e-01,\n",
       "       1.36840145e-02, 3.61186072e-01, 2.86274745e-01, 5.56519663e-01,\n",
       "       7.05653672e-01, 6.85180824e-01, 3.47477631e-01, 7.83050424e-01,\n",
       "       7.60862512e-01, 8.16779844e-01, 7.51864929e-01, 2.73291239e-01,\n",
       "       9.61036425e-01, 9.70491963e-02, 6.03555140e-01, 4.07776145e-01,\n",
       "       3.07676923e-01, 6.81439939e-03, 2.25994774e-01, 7.94960987e-01,\n",
       "       7.06905511e-01, 7.90357695e-01, 6.88955020e-01, 2.37260017e-01,\n",
       "       4.16334148e-01, 5.67498183e-01, 7.08421680e-01, 3.96434766e-01,\n",
       "       1.28723821e-01, 8.37292428e-01, 6.70414388e-02, 9.60591920e-01,\n",
       "       2.76328508e-01, 4.75526880e-01, 6.93855495e-01, 7.87863769e-01,\n",
       "       6.38020166e-01, 2.07552878e-01, 9.96993632e-01, 9.66530898e-01,\n",
       "       6.76973060e-01, 7.43438027e-01, 5.73988492e-01, 9.23013220e-01,\n",
       "       6.95564854e-01, 2.05759257e-01, 1.35020558e-01, 1.14986016e-01,\n",
       "       9.31997123e-01, 9.44456249e-01, 6.98047567e-01, 7.99059928e-01,\n",
       "       2.20344999e-01, 9.39754231e-01, 9.98896216e-01, 2.40930732e-02,\n",
       "       2.86441559e-01, 9.15024899e-01, 7.64047825e-01, 4.33430180e-01,\n",
       "       3.18658078e-01, 5.49261906e-02, 3.34443164e-01, 6.42906200e-01,\n",
       "       7.01692504e-01, 6.09842952e-01, 5.05231356e-01, 5.94322345e-01,\n",
       "       8.43224037e-01, 4.08175615e-02, 6.71127412e-01, 2.16886367e-01,\n",
       "       4.69961999e-02, 9.37107648e-01, 1.00438411e-03, 6.11899260e-01,\n",
       "       7.77133483e-01, 1.73651076e-01, 8.19091318e-01, 3.86202078e-01,\n",
       "       1.00868312e-01, 9.63978341e-01, 5.19646345e-01, 5.99238524e-02,\n",
       "       1.23071912e-01, 3.12378245e-01, 5.20699822e-01, 7.96803647e-01,\n",
       "       3.29300060e-02, 4.25536992e-01, 8.89394974e-01, 3.52395691e-01,\n",
       "       8.17369522e-01, 2.11578670e-01, 7.66388683e-01, 5.06744779e-01,\n",
       "       9.11454593e-01, 4.67715176e-01, 1.76199522e-01, 8.03768566e-01,\n",
       "       1.63636045e-01, 9.10330720e-01, 4.99595677e-02, 7.84322234e-01,\n",
       "       5.42317820e-01, 8.49285978e-01, 4.41309351e-01, 8.63407248e-01,\n",
       "       7.46818132e-01, 9.73419867e-01, 3.66361480e-01, 3.16866232e-01,\n",
       "       9.80144066e-01, 6.37921501e-01, 5.98849007e-01, 9.46417047e-01,\n",
       "       1.31115742e-02, 5.42061044e-01, 1.23211767e-01, 2.74935025e-01,\n",
       "       1.69865044e-02, 4.31728403e-01, 2.26614798e-01, 5.16175691e-01,\n",
       "       2.19623095e-01, 1.27128517e-01, 9.08723090e-01, 2.80112237e-01,\n",
       "       4.76681115e-01, 3.70891676e-01, 7.55187250e-01, 9.42782809e-01,\n",
       "       5.01546982e-02, 2.46896668e-01, 2.55954238e-01, 8.26852027e-01,\n",
       "       7.34233456e-01, 1.40761251e-01, 3.39467297e-01, 5.71222818e-02,\n",
       "       8.68257239e-02, 1.98717489e-01, 9.52016925e-01, 5.15899990e-01,\n",
       "       2.07342579e-02, 6.19332107e-01, 9.61686221e-01, 6.19000580e-01,\n",
       "       2.90526578e-01, 2.62263928e-01, 7.03156629e-01, 8.93473945e-01,\n",
       "       8.17878483e-01, 6.99867528e-01, 8.69708528e-01, 6.92422331e-01,\n",
       "       3.73756284e-01, 1.51459218e-01, 6.77472386e-01, 3.86265587e-01,\n",
       "       4.14549293e-01, 8.32059799e-01, 8.00749181e-01, 8.75173132e-02,\n",
       "       5.77770812e-01, 1.15399195e-02, 2.79864974e-01, 4.19402427e-01,\n",
       "       2.79684933e-01, 9.15457143e-01, 8.33181403e-02, 2.64494973e-01,\n",
       "       8.77618968e-01, 3.57277312e-01, 9.20902062e-01, 1.41517912e-01,\n",
       "       8.05566834e-01, 5.26863947e-02, 6.16134271e-01, 1.80311554e-01,\n",
       "       5.30531863e-01, 7.57899683e-01, 1.53097800e-01, 5.70489510e-01,\n",
       "       2.36728423e-01, 1.62036005e-01, 5.61405927e-01, 9.48786463e-01,\n",
       "       3.53062439e-01, 6.27302963e-01, 9.16702185e-01, 2.60104912e-01,\n",
       "       2.07319403e-01, 6.94642056e-01, 6.67262134e-01, 8.42162730e-01,\n",
       "       9.67795840e-01, 9.50211868e-01, 4.96395347e-01, 3.69280704e-01,\n",
       "       1.54210137e-01, 6.40371316e-02, 3.87600608e-01, 3.98933278e-01,\n",
       "       9.31295144e-01, 1.91530464e-01, 7.74419792e-01, 2.89118248e-01,\n",
       "       5.06143566e-01, 3.22929895e-01, 2.45391826e-01, 1.30716904e-01,\n",
       "       8.57645830e-01, 3.30497033e-01, 7.66858288e-01, 7.81688038e-01,\n",
       "       2.28296363e-01, 4.35930595e-01, 1.53319302e-01, 3.23008061e-01,\n",
       "       7.85008761e-01, 7.90704431e-01, 5.47798767e-01, 4.26228242e-02,\n",
       "       8.05746621e-01, 8.42721452e-01, 7.53900813e-01, 3.71448591e-01,\n",
       "       2.85885344e-01, 2.11365019e-01, 7.85368080e-01, 1.59710706e-01,\n",
       "       6.77137249e-01, 5.12316167e-01, 3.90056564e-01, 3.25082264e-01,\n",
       "       3.19265436e-02, 9.87325928e-01, 1.76073813e-02, 2.93001971e-01,\n",
       "       3.90826971e-01, 4.76223856e-01, 4.53544267e-01, 5.01763428e-01,\n",
       "       1.67458763e-01, 8.98678655e-01, 9.69553067e-01, 1.28212065e-01,\n",
       "       3.26406796e-01, 6.30139960e-01, 5.67353840e-01, 5.96821764e-01,\n",
       "       1.59866612e-02, 5.57760368e-01, 6.74771779e-01, 5.93039174e-01,\n",
       "       7.82661886e-01, 5.42616309e-02, 8.06330343e-02, 2.17616858e-01,\n",
       "       7.42974007e-01, 9.57982862e-01, 5.72757966e-01, 5.02591112e-01,\n",
       "       5.52324508e-01, 7.66283287e-01, 5.79862181e-01, 1.72184579e-01,\n",
       "       6.82572799e-01, 4.26477831e-01, 9.53741460e-01, 4.92835938e-01,\n",
       "       5.51180487e-01, 7.88398209e-01, 9.93108089e-01, 6.07304610e-01,\n",
       "       3.79977440e-01, 7.17598905e-01, 5.84353163e-01, 2.64619170e-01,\n",
       "       1.33741641e-01, 8.55520202e-01, 8.19769346e-02, 1.04816096e-02,\n",
       "       4.16456265e-01, 4.57436861e-01, 9.76965246e-01, 8.42029118e-01,\n",
       "       2.16127255e-01, 5.59420671e-01, 8.39414220e-01, 5.35667418e-01,\n",
       "       7.51863568e-01, 4.39612424e-01, 7.03505059e-01, 3.81547633e-01,\n",
       "       8.73348800e-01, 2.50877833e-01, 4.05985643e-01, 8.75298318e-01,\n",
       "       3.41642055e-01, 5.04679078e-01, 4.68001655e-01, 5.83344491e-02,\n",
       "       2.92953196e-01, 1.79490988e-01, 3.18442777e-01, 1.71324301e-02,\n",
       "       3.57568393e-02, 6.23208529e-01, 9.65499773e-02, 1.59384048e-01,\n",
       "       1.83497898e-01, 4.46649488e-01, 4.28215969e-01, 2.80437895e-01,\n",
       "       7.29838457e-01, 8.27072290e-01, 3.77234500e-01, 9.06025206e-01,\n",
       "       2.08940273e-01, 4.00203114e-01, 1.87793052e-02, 9.59998615e-01,\n",
       "       2.52551402e-01, 5.47576649e-01, 1.42432813e-01, 1.60718107e-01,\n",
       "       1.31791698e-01, 2.54292555e-01, 9.39355260e-02, 8.75646676e-01,\n",
       "       7.95534504e-01, 1.77828129e-02, 9.04142768e-01, 8.04765862e-01,\n",
       "       4.06105654e-01, 6.68516981e-01, 8.73976951e-01, 1.72267633e-01,\n",
       "       1.92410761e-01, 2.14870335e-02, 6.75578731e-01, 9.05122676e-01,\n",
       "       6.41155233e-01, 2.11332180e-01, 2.11551248e-01, 2.27865081e-02,\n",
       "       2.02879707e-01, 6.01729914e-01, 6.82727310e-01, 8.57998906e-01,\n",
       "       2.97656124e-01, 3.72908344e-01, 2.32118114e-01, 4.30701117e-02,\n",
       "       9.85031267e-01, 4.61197292e-01, 5.62612995e-01, 8.90867352e-01,\n",
       "       7.77143058e-01, 8.22564488e-01, 1.91243934e-01, 8.23994489e-02,\n",
       "       9.90687499e-01, 5.60436740e-01, 5.39412242e-01, 6.79618289e-01,\n",
       "       3.49488604e-01, 6.76757070e-01, 7.48500425e-01, 8.72691664e-01,\n",
       "       1.33512051e-01, 8.70927486e-01, 2.47563193e-01, 9.86304690e-01,\n",
       "       6.17741145e-01, 2.79586530e-01, 4.83853402e-01, 3.32448411e-01,\n",
       "       4.55208771e-02, 4.24999939e-01, 5.01043588e-01, 3.20670151e-01,\n",
       "       2.45559822e-01, 1.41994496e-01, 4.61389107e-01, 5.70181456e-01,\n",
       "       8.13876626e-01, 6.40597692e-01, 6.23416338e-01, 6.43498277e-01,\n",
       "       7.88118658e-01, 1.95058300e-01, 1.23851389e-01, 6.88890629e-01,\n",
       "       7.52260435e-01, 3.84773957e-01, 7.79212932e-01, 5.30802524e-01,\n",
       "       6.80247521e-01, 7.92888269e-01, 6.90294798e-01, 3.15486458e-01,\n",
       "       2.48581601e-01, 4.49848778e-01, 4.70764282e-01, 1.60417557e-01,\n",
       "       9.06902147e-01, 5.79903094e-02, 1.42102589e-01, 3.74574104e-01,\n",
       "       8.73179072e-01, 7.91226248e-01, 1.26254066e-01, 8.37347446e-01,\n",
       "       5.50539663e-01, 1.21843306e-01, 6.87807791e-01, 8.89452003e-04,\n",
       "       3.98964158e-01, 3.48105883e-01, 7.38184758e-01, 2.88295356e-01,\n",
       "       4.77970536e-02, 1.72315986e-01, 3.64086244e-01, 6.55431870e-01,\n",
       "       9.12763710e-01, 7.67591312e-01, 6.53378072e-01, 9.48889618e-01,\n",
       "       6.00806652e-01, 1.54302882e-01, 9.73937814e-01, 4.41564975e-01,\n",
       "       6.46316273e-01, 8.97134155e-02, 4.02683288e-01, 4.53528489e-01,\n",
       "       9.89782100e-01, 8.76087787e-01, 7.51011647e-01, 5.99548156e-01,\n",
       "       6.74971768e-01, 4.19070714e-01, 5.23816305e-01, 5.80712364e-01,\n",
       "       3.18717184e-01, 1.67259287e-01, 1.90437944e-01, 6.97961428e-01,\n",
       "       5.06258823e-01, 1.24795581e-01, 5.36397281e-01, 9.75588662e-01,\n",
       "       7.00831277e-01, 8.45388281e-01, 7.28622796e-01, 3.76227190e-01,\n",
       "       7.04493907e-01, 6.35973444e-01, 2.80015054e-01, 5.91018674e-01,\n",
       "       3.79394430e-01, 8.68032542e-01, 7.16968909e-01, 7.21052337e-01])"
      ]
     },
     "execution_count": 49,
     "metadata": {},
     "output_type": "execute_result"
    }
   ],
   "source": [
    "import matplotlib.pyplot as plt\n",
    "a = np.random.rand(600)\n",
    "a"
   ]
  },
  {
   "cell_type": "code",
   "execution_count": 51,
   "id": "cd8f078a",
   "metadata": {},
   "outputs": [
    {
     "data": {
      "text/plain": [
       "(array([66., 64., 59., 54., 50., 61., 62., 64., 52., 68.]),\n",
       " array([8.89452003e-04, 1.00690128e-01, 2.00490805e-01, 3.00291481e-01,\n",
       "        4.00092158e-01, 4.99892834e-01, 5.99693511e-01, 6.99494187e-01,\n",
       "        7.99294863e-01, 8.99095540e-01, 9.98896216e-01]),\n",
       " <BarContainer object of 10 artists>)"
      ]
     },
     "execution_count": 51,
     "metadata": {},
     "output_type": "execute_result"
    },
    {
     "data": {
      "image/png": "[encoded data removed]",
      "text/plain": [
       "<Figure size 640x480 with 1 Axes>"
      ]
     },
     "metadata": {},
     "output_type": "display_data"
    }
   ],
   "source": [
    "plt.hist(a)"
   ]
  },
  {
   "cell_type": "code",
   "execution_count": 55,
   "id": "a40051f1",
   "metadata": {},
   "outputs": [
    {
     "data": {
      "text/plain": [
       "(array([19.,  9., 19.,  5., 14.,  4., 18., 17., 16.,  9., 16.,  7., 11.,\n",
       "        14., 11.,  8., 10., 10., 15., 11., 11., 10., 11., 11.,  7., 14.,\n",
       "         8., 14., 14., 11., 13.,  9., 12., 10., 18., 14.,  7., 11., 12.,\n",
       "        20., 13.,  6., 12., 16.,  5., 14., 10., 13., 18., 13.]),\n",
       " array([8.89452003e-04, 2.08495873e-02, 4.08097226e-02, 6.07698579e-02,\n",
       "        8.07299931e-02, 1.00690128e-01, 1.20650264e-01, 1.40610399e-01,\n",
       "        1.60570534e-01, 1.80530670e-01, 2.00490805e-01, 2.20450940e-01,\n",
       "        2.40411075e-01, 2.60371211e-01, 2.80331346e-01, 3.00291481e-01,\n",
       "        3.20251617e-01, 3.40211752e-01, 3.60171887e-01, 3.80132022e-01,\n",
       "        4.00092158e-01, 4.20052293e-01, 4.40012428e-01, 4.59972564e-01,\n",
       "        4.79932699e-01, 4.99892834e-01, 5.19852969e-01, 5.39813105e-01,\n",
       "        5.59773240e-01, 5.79733375e-01, 5.99693511e-01, 6.19653646e-01,\n",
       "        6.39613781e-01, 6.59573916e-01, 6.79534052e-01, 6.99494187e-01,\n",
       "        7.19454322e-01, 7.39414458e-01, 7.59374593e-01, 7.79334728e-01,\n",
       "        7.99294863e-01, 8.19254999e-01, 8.39215134e-01, 8.59175269e-01,\n",
       "        8.79135405e-01, 8.99095540e-01, 9.19055675e-01, 9.39015810e-01,\n",
       "        9.58975946e-01, 9.78936081e-01, 9.98896216e-01]),\n",
       " <BarContainer object of 50 artists>)"
      ]
     },
     "execution_count": 55,
     "metadata": {},
     "output_type": "execute_result"
    },
    {
     "data": {
      "image/png": "[encoded data removed]",
      "text/plain": [
       "<Figure size 640x480 with 1 Axes>"
      ]
     },
     "metadata": {},
     "output_type": "display_data"
    }
   ],
   "source": [
    "plt.hist(a,bins=50)"
   ]
  },
  {
   "cell_type": "code",
   "execution_count": 56,
   "id": "8cddd906",
   "metadata": {},
   "outputs": [
    {
     "data": {
      "text/plain": [
       "(array([  1.,   0.,   0.,   0.,   0.,   0.,   0.,   0.,   0.,   0.,   0.,\n",
       "          0.,   0.,   0.,   0.,   1.,   0.,   1.,   0.,   0.,   0.,   0.,\n",
       "          1.,   1.,   0.,   0.,   0.,   1.,   1.,   1.,   5.,   1.,   1.,\n",
       "          0.,   0.,   4.,   1.,   1.,   3.,   2.,   2.,   3.,   0.,   3.,\n",
       "          2.,   3.,   4.,   4.,   1.,   0.,   3.,   3.,   1.,   2.,   7.,\n",
       "          2.,   1.,   2.,   5.,   5.,   9.,   7.,  11.,   6.,  10.,  14.,\n",
       "          5.,   7.,   6.,  11.,  10.,   9.,  11.,   8.,  27.,   7.,  10.,\n",
       "         16.,  14.,  20.,  26.,  30.,  24.,  29.,  28.,  31.,  25.,  28.,\n",
       "         33.,  26.,  43.,  43.,  32.,  34.,  42.,  32.,  41.,  47.,  38.,\n",
       "         39.,  54.,  49.,  63.,  60.,  50.,  51.,  53.,  68.,  49.,  61.,\n",
       "         59.,  58.,  70.,  85.,  72.,  77.,  76.,  61.,  77.,  75.,  75.,\n",
       "         70., 106.,  81.,  93.,  84.,  89., 117., 111., 118.,  90.,  98.,\n",
       "        100.,  87., 109.,  95.,  94., 119., 127.,  99., 101., 114., 109.,\n",
       "        137., 127., 115., 119., 100., 123., 114., 110., 123., 111.,  96.,\n",
       "        104., 100.,  83., 105., 113.,  90., 114., 105.,  96.,  85.,  90.,\n",
       "        101.,  92., 117.,  83.,  93.,  72.,  86.,  88.,  83.,  95.,  77.,\n",
       "         89.,  73.,  85.,  70.,  64.,  76.,  63.,  68.,  60.,  55.,  65.,\n",
       "         49.,  57.,  45.,  47.,  48.,  50.,  48.,  49.,  36.,  45.,  54.,\n",
       "         32.,  36.,  32.,  46.,  29.,  38.,  44.,  30.,  33.,  31.,  23.,\n",
       "         23.,  24.,  25.,  22.,  15.,  20.,  16.,  22.,  21.,  14.,  12.,\n",
       "         15.,  19.,  11.,   9.,  17.,  15.,   4.,  11.,   6.,  11.,   9.,\n",
       "          3.,   7.,  12.,   3.,   8.,   7.,   7.,   3.,   3.,   7.,   5.,\n",
       "          5.,   4.,   1.,   2.,   5.,   6.,   1.,   5.,   1.,   2.,   1.,\n",
       "          0.,   5.,   1.,   2.,   2.,   1.,   1.,   1.,   1.,   0.,   0.,\n",
       "          0.,   1.,   0.,   0.,   0.,   1.,   1.,   0.,   1.,   1.,   0.,\n",
       "          0.,   0.,   0.,   0.,   0.,   0.,   2.,   0.,   0.,   0.,   0.,\n",
       "          0.,   0.,   0.,   0.,   0.,   0.,   0.,   0.,   0.,   0.,   0.,\n",
       "          0.,   0.,   1.]),\n",
       " array([-3.96736912, -3.94032738, -3.91328563, -3.88624389, -3.85920215,\n",
       "        -3.83216041, -3.80511867, -3.77807693, -3.75103519, -3.72399345,\n",
       "        -3.69695171, -3.66990997, -3.64286823, -3.61582649, -3.58878475,\n",
       "        -3.56174301, -3.53470127, -3.50765953, -3.48061779, -3.45357604,\n",
       "        -3.4265343 , -3.39949256, -3.37245082, -3.34540908, -3.31836734,\n",
       "        -3.2913256 , -3.26428386, -3.23724212, -3.21020038, -3.18315864,\n",
       "        -3.1561169 , -3.12907516, -3.10203342, -3.07499168, -3.04794994,\n",
       "        -3.0209082 , -2.99386645, -2.96682471, -2.93978297, -2.91274123,\n",
       "        -2.88569949, -2.85865775, -2.83161601, -2.80457427, -2.77753253,\n",
       "        -2.75049079, -2.72344905, -2.69640731, -2.66936557, -2.64232383,\n",
       "        -2.61528209, -2.58824035, -2.5611986 , -2.53415686, -2.50711512,\n",
       "        -2.48007338, -2.45303164, -2.4259899 , -2.39894816, -2.37190642,\n",
       "        -2.34486468, -2.31782294, -2.2907812 , -2.26373946, -2.23669772,\n",
       "        -2.20965598, -2.18261424, -2.1555725 , -2.12853076, -2.10148901,\n",
       "        -2.07444727, -2.04740553, -2.02036379, -1.99332205, -1.96628031,\n",
       "        -1.93923857, -1.91219683, -1.88515509, -1.85811335, -1.83107161,\n",
       "        -1.80402987, -1.77698813, -1.74994639, -1.72290465, -1.69586291,\n",
       "        -1.66882117, -1.64177942, -1.61473768, -1.58769594, -1.5606542 ,\n",
       "        -1.53361246, -1.50657072, -1.47952898, -1.45248724, -1.4254455 ,\n",
       "        -1.39840376, -1.37136202, -1.34432028, -1.31727854, -1.2902368 ,\n",
       "        -1.26319506, -1.23615332, -1.20911158, -1.18206983, -1.15502809,\n",
       "        -1.12798635, -1.10094461, -1.07390287, -1.04686113, -1.01981939,\n",
       "        -0.99277765, -0.96573591, -0.93869417, -0.91165243, -0.88461069,\n",
       "        -0.85756895, -0.83052721, -0.80348547, -0.77644373, -0.74940198,\n",
       "        -0.72236024, -0.6953185 , -0.66827676, -0.64123502, -0.61419328,\n",
       "        -0.58715154, -0.5601098 , -0.53306806, -0.50602632, -0.47898458,\n",
       "        -0.45194284, -0.4249011 , -0.39785936, -0.37081762, -0.34377588,\n",
       "        -0.31673414, -0.28969239, -0.26265065, -0.23560891, -0.20856717,\n",
       "        -0.18152543, -0.15448369, -0.12744195, -0.10040021, -0.07335847,\n",
       "        -0.04631673, -0.01927499,  0.00776675,  0.03480849,  0.06185023,\n",
       "         0.08889197,  0.11593371,  0.14297545,  0.1700172 ,  0.19705894,\n",
       "         0.22410068,  0.25114242,  0.27818416,  0.3052259 ,  0.33226764,\n",
       "         0.35930938,  0.38635112,  0.41339286,  0.4404346 ,  0.46747634,\n",
       "         0.49451808,  0.52155982,  0.54860156,  0.5756433 ,  0.60268505,\n",
       "         0.62972679,  0.65676853,  0.68381027,  0.71085201,  0.73789375,\n",
       "         0.76493549,  0.79197723,  0.81901897,  0.84606071,  0.87310245,\n",
       "         0.90014419,  0.92718593,  0.95422767,  0.98126941,  1.00831115,\n",
       "         1.03535289,  1.06239464,  1.08943638,  1.11647812,  1.14351986,\n",
       "         1.1705616 ,  1.19760334,  1.22464508,  1.25168682,  1.27872856,\n",
       "         1.3057703 ,  1.33281204,  1.35985378,  1.38689552,  1.41393726,\n",
       "         1.440979  ,  1.46802074,  1.49506248,  1.52210423,  1.54914597,\n",
       "         1.57618771,  1.60322945,  1.63027119,  1.65731293,  1.68435467,\n",
       "         1.71139641,  1.73843815,  1.76547989,  1.79252163,  1.81956337,\n",
       "         1.84660511,  1.87364685,  1.90068859,  1.92773033,  1.95477208,\n",
       "         1.98181382,  2.00885556,  2.0358973 ,  2.06293904,  2.08998078,\n",
       "         2.11702252,  2.14406426,  2.171106  ,  2.19814774,  2.22518948,\n",
       "         2.25223122,  2.27927296,  2.3063147 ,  2.33335644,  2.36039818,\n",
       "         2.38743992,  2.41448167,  2.44152341,  2.46856515,  2.49560689,\n",
       "         2.52264863,  2.54969037,  2.57673211,  2.60377385,  2.63081559,\n",
       "         2.65785733,  2.68489907,  2.71194081,  2.73898255,  2.76602429,\n",
       "         2.79306603,  2.82010777,  2.84714951,  2.87419126,  2.901233  ,\n",
       "         2.92827474,  2.95531648,  2.98235822,  3.00939996,  3.0364417 ,\n",
       "         3.06348344,  3.09052518,  3.11756692,  3.14460866,  3.1716504 ,\n",
       "         3.19869214,  3.22573388,  3.25277562,  3.27981736,  3.3068591 ,\n",
       "         3.33390085,  3.36094259,  3.38798433,  3.41502607,  3.44206781,\n",
       "         3.46910955,  3.49615129,  3.52319303,  3.55023477,  3.57727651,\n",
       "         3.60431825,  3.63135999,  3.65840173,  3.68544347,  3.71248521,\n",
       "         3.73952695,  3.7665687 ,  3.79361044,  3.82065218,  3.84769392,\n",
       "         3.87473566,  3.9017774 ,  3.92881914,  3.95586088,  3.98290262,\n",
       "         4.00994436,  4.0369861 ,  4.06402784,  4.09106958,  4.11811132,\n",
       "         4.14515306]),\n",
       " <BarContainer object of 300 artists>)"
      ]
     },
     "execution_count": 56,
     "metadata": {},
     "output_type": "execute_result"
    },
    {
     "data": {
      "image/png": "[encoded data removed]",
      "text/plain": [
       "<Figure size 640x480 with 1 Axes>"
      ]
     },
     "metadata": {},
     "output_type": "display_data"
    }
   ],
   "source": [
    "b = np.random.randn(10000)\n",
    "plt.hist(b,bins=300)"
   ]
  },
  {
   "cell_type": "code",
   "execution_count": 69,
   "id": "cfb0919b",
   "metadata": {},
   "outputs": [
    {
     "data": {
      "text/plain": [
       "array([[0.14107104, 0.89387941, 0.38561015, 0.65909364],\n",
       "       [0.94558847, 0.691822  , 0.30305248, 0.50657991]])"
      ]
     },
     "execution_count": 69,
     "metadata": {},
     "output_type": "execute_result"
    }
   ],
   "source": [
    "c = np.random.rand(2,4)\n",
    "c"
   ]
  },
  {
   "cell_type": "code",
   "execution_count": 68,
   "id": "4b5fb2c5",
   "metadata": {},
   "outputs": [
    {
     "data": {
      "text/plain": [
       "2"
      ]
     },
     "execution_count": 68,
     "metadata": {},
     "output_type": "execute_result"
    }
   ],
   "source": [
    "c.ndim"
   ]
  },
  {
   "cell_type": "code",
   "execution_count": 70,
   "id": "4c8706e6",
   "metadata": {
    "scrolled": true
   },
   "outputs": [
    {
     "data": {
      "text/plain": [
       "array([[[[0.63081218, 0.17887749, 0.77174734, 0.37449676, 0.03824976],\n",
       "         [0.46291379, 0.64824666, 0.02655633, 0.68729366, 0.6844095 ],\n",
       "         [0.01961297, 0.2711415 , 0.59473985, 0.81699265, 0.22421044],\n",
       "         [0.48887708, 0.7112776 , 0.32650282, 0.05394662, 0.46503053]],\n",
       "\n",
       "        [[0.59444719, 0.69566633, 0.74302596, 0.52133514, 0.13830194],\n",
       "         [0.22494345, 0.70307448, 0.58888571, 0.84632674, 0.8845197 ],\n",
       "         [0.510283  , 0.45750728, 0.65344445, 0.22342761, 0.06727339],\n",
       "         [0.98425291, 0.04473832, 0.06068632, 0.01888711, 0.57407574]],\n",
       "\n",
       "        [[0.76908158, 0.07938232, 0.03824221, 0.26225669, 0.02978065],\n",
       "         [0.09998554, 0.67334852, 0.12550718, 0.25547283, 0.8329486 ],\n",
       "         [0.56007676, 0.77592045, 0.06130941, 0.09241932, 0.47178583],\n",
       "         [0.81210525, 0.81700199, 0.47500562, 0.5402048 , 0.59567308]]],\n",
       "\n",
       "\n",
       "       [[[0.13372287, 0.90324275, 0.12019395, 0.99456173, 0.53343661],\n",
       "         [0.11775954, 0.29559976, 0.21566128, 0.28241585, 0.7782561 ],\n",
       "         [0.7038227 , 0.52055317, 0.18866732, 0.25433441, 0.44118095],\n",
       "         [0.00268638, 0.80504411, 0.0969168 , 0.74110875, 0.14111783]],\n",
       "\n",
       "        [[0.51914636, 0.70586191, 0.37188909, 0.57108465, 0.86486262],\n",
       "         [0.94590176, 0.1209284 , 0.13906521, 0.66979255, 0.51829567],\n",
       "         [0.25911996, 0.44009151, 0.00334528, 0.43842478, 0.37674461],\n",
       "         [0.48626225, 0.0294722 , 0.38110271, 0.75546969, 0.34165346]],\n",
       "\n",
       "        [[0.74476284, 0.79930544, 0.01336383, 0.73593112, 0.95955855],\n",
       "         [0.11574347, 0.84547802, 0.29222835, 0.95431022, 0.61069275],\n",
       "         [0.22119972, 0.87232958, 0.95085977, 0.24781482, 0.11428703],\n",
       "         [0.1848347 , 0.8760046 , 0.85619663, 0.91183039, 0.29784572]]]])"
      ]
     },
     "execution_count": 70,
     "metadata": {},
     "output_type": "execute_result"
    }
   ],
   "source": [
    "c = np.random.rand(2,3,4,5)\n",
    "c"
   ]
  },
  {
   "cell_type": "code",
   "execution_count": 71,
   "id": "cc6b711b",
   "metadata": {},
   "outputs": [
    {
     "data": {
      "text/plain": [
       "4"
      ]
     },
     "execution_count": 71,
     "metadata": {},
     "output_type": "execute_result"
    }
   ],
   "source": [
    "c.ndim"
   ]
  },
  {
   "cell_type": "code",
   "execution_count": 73,
   "id": "f19960c3",
   "metadata": {},
   "outputs": [
    {
     "data": {
      "text/plain": [
       "array([[ 0,  1,  2,  3,  4,  5,  6,  7,  8,  9, 10, 11, 12, 13, 14, 15,\n",
       "        16, 17, 18, 19, 20, 21, 22, 23, 24],\n",
       "       [25, 26, 27, 28, 29, 30, 31, 32, 33, 34, 35, 36, 37, 38, 39, 40,\n",
       "        41, 42, 43, 44, 45, 46, 47, 48, 49],\n",
       "       [50, 51, 52, 53, 54, 55, 56, 57, 58, 59, 60, 61, 62, 63, 64, 65,\n",
       "        66, 67, 68, 69, 70, 71, 72, 73, 74],\n",
       "       [75, 76, 77, 78, 79, 80, 81, 82, 83, 84, 85, 86, 87, 88, 89, 90,\n",
       "        91, 92, 93, 94, 95, 96, 97, 98, 99]])"
      ]
     },
     "execution_count": 73,
     "metadata": {},
     "output_type": "execute_result"
    }
   ],
   "source": [
    "d = np.arange(100).reshape(4,25)\n",
    "d"
   ]
  },
  {
   "cell_type": "code",
   "execution_count": 74,
   "id": "ebedd0fd",
   "metadata": {},
   "outputs": [
    {
     "data": {
      "text/plain": [
       "2"
      ]
     },
     "execution_count": 74,
     "metadata": {},
     "output_type": "execute_result"
    }
   ],
   "source": [
    "d.ndim"
   ]
  },
  {
   "cell_type": "code",
   "execution_count": 75,
   "id": "b83139fc",
   "metadata": {},
   "outputs": [
    {
     "data": {
      "text/plain": [
       "(4, 25)"
      ]
     },
     "execution_count": 75,
     "metadata": {},
     "output_type": "execute_result"
    }
   ],
   "source": [
    "d.shape"
   ]
  },
  {
   "cell_type": "code",
   "execution_count": 77,
   "id": "ec0a600d",
   "metadata": {},
   "outputs": [
    {
     "data": {
      "text/plain": [
       "array([[[ 0,  1,  2,  3,  4],\n",
       "        [ 5,  6,  7,  8,  9],\n",
       "        [10, 11, 12, 13, 14],\n",
       "        [15, 16, 17, 18, 19],\n",
       "        [20, 21, 22, 23, 24]],\n",
       "\n",
       "       [[25, 26, 27, 28, 29],\n",
       "        [30, 31, 32, 33, 34],\n",
       "        [35, 36, 37, 38, 39],\n",
       "        [40, 41, 42, 43, 44],\n",
       "        [45, 46, 47, 48, 49]],\n",
       "\n",
       "       [[50, 51, 52, 53, 54],\n",
       "        [55, 56, 57, 58, 59],\n",
       "        [60, 61, 62, 63, 64],\n",
       "        [65, 66, 67, 68, 69],\n",
       "        [70, 71, 72, 73, 74]],\n",
       "\n",
       "       [[75, 76, 77, 78, 79],\n",
       "        [80, 81, 82, 83, 84],\n",
       "        [85, 86, 87, 88, 89],\n",
       "        [90, 91, 92, 93, 94],\n",
       "        [95, 96, 97, 98, 99]]])"
      ]
     },
     "execution_count": 77,
     "metadata": {},
     "output_type": "execute_result"
    }
   ],
   "source": [
    "d = np.arange(100).reshape(4,5,5)\n",
    "d"
   ]
  },
  {
   "cell_type": "code",
   "execution_count": 78,
   "id": "252daed0",
   "metadata": {},
   "outputs": [
    {
     "data": {
      "text/plain": [
       "3"
      ]
     },
     "execution_count": 78,
     "metadata": {},
     "output_type": "execute_result"
    }
   ],
   "source": [
    "d.ndim"
   ]
  },
  {
   "cell_type": "code",
   "execution_count": 79,
   "id": "3dc32409",
   "metadata": {},
   "outputs": [
    {
     "data": {
      "text/plain": [
       "(4, 5, 5)"
      ]
     },
     "execution_count": 79,
     "metadata": {},
     "output_type": "execute_result"
    }
   ],
   "source": [
    "d.shape"
   ]
  },
  {
   "cell_type": "code",
   "execution_count": 80,
   "id": "f539dc31",
   "metadata": {},
   "outputs": [],
   "source": [
    "a = np.arange(100)"
   ]
  },
  {
   "cell_type": "code",
   "execution_count": 81,
   "id": "8a186fc3",
   "metadata": {},
   "outputs": [
    {
     "data": {
      "text/plain": [
       "array([1, 2, 3, 4])"
      ]
     },
     "execution_count": 81,
     "metadata": {},
     "output_type": "execute_result"
    }
   ],
   "source": [
    "b = a[1:5]\n",
    "b"
   ]
  },
  {
   "cell_type": "code",
   "execution_count": 82,
   "id": "9112a270",
   "metadata": {},
   "outputs": [
    {
     "data": {
      "text/plain": [
       "array([0, 1, 2, 3, 4])"
      ]
     },
     "execution_count": 82,
     "metadata": {},
     "output_type": "execute_result"
    }
   ],
   "source": [
    "b = a[:5]\n",
    "b"
   ]
  },
  {
   "cell_type": "code",
   "execution_count": 83,
   "id": "35b16eff",
   "metadata": {},
   "outputs": [
    {
     "data": {
      "text/plain": [
       "array([ 5,  6,  7,  8,  9, 10, 11, 12, 13, 14, 15, 16, 17, 18, 19, 20, 21,\n",
       "       22, 23, 24, 25, 26, 27, 28, 29, 30, 31, 32, 33, 34, 35, 36, 37, 38,\n",
       "       39, 40, 41, 42, 43, 44, 45, 46, 47, 48, 49, 50, 51, 52, 53, 54, 55,\n",
       "       56, 57, 58, 59, 60, 61, 62, 63, 64, 65, 66, 67, 68, 69, 70, 71, 72,\n",
       "       73, 74, 75, 76, 77, 78, 79, 80, 81, 82, 83, 84, 85, 86, 87, 88, 89,\n",
       "       90, 91, 92, 93, 94, 95, 96, 97, 98, 99])"
      ]
     },
     "execution_count": 83,
     "metadata": {},
     "output_type": "execute_result"
    }
   ],
   "source": [
    "b=a[5:]\n",
    "b"
   ]
  },
  {
   "cell_type": "code",
   "execution_count": 84,
   "id": "5fad2b24",
   "metadata": {},
   "outputs": [
    {
     "data": {
      "text/plain": [
       "array([99, 98, 97, 96, 95, 94, 93, 92, 91, 90, 89, 88, 87, 86, 85, 84, 83,\n",
       "       82, 81, 80, 79, 78, 77, 76, 75, 74, 73, 72, 71, 70, 69, 68, 67, 66,\n",
       "       65, 64, 63, 62, 61, 60, 59, 58, 57, 56, 55, 54, 53, 52, 51, 50, 49,\n",
       "       48, 47, 46, 45, 44, 43, 42, 41, 40, 39, 38, 37, 36, 35, 34, 33, 32,\n",
       "       31, 30, 29, 28, 27, 26, 25, 24, 23, 22, 21, 20, 19, 18, 17, 16, 15,\n",
       "       14, 13, 12, 11, 10,  9,  8,  7,  6,  5,  4,  3,  2,  1,  0])"
      ]
     },
     "execution_count": 84,
     "metadata": {},
     "output_type": "execute_result"
    }
   ],
   "source": [
    "b=a[::-1]\n",
    "b"
   ]
  },
  {
   "cell_type": "code",
   "execution_count": 85,
   "id": "1e2b0ed3",
   "metadata": {},
   "outputs": [
    {
     "ename": "IndexError",
     "evalue": "too many indices for array: array is 1-dimensional, but 2 were indexed",
     "output_type": "error",
     "traceback": [
      "\u001b[1;31m---------------------------------------------------------------------------\u001b[0m",
      "\u001b[1;31mIndexError\u001b[0m                                Traceback (most recent call last)",
      "Cell \u001b[1;32mIn[85], line 1\u001b[0m\n\u001b[1;32m----> 1\u001b[0m b \u001b[38;5;241m=\u001b[39m a[::\u001b[38;5;241m2\u001b[39m,:]\n\u001b[0;32m      2\u001b[0m b\n",
      "\u001b[1;31mIndexError\u001b[0m: too many indices for array: array is 1-dimensional, but 2 were indexed"
     ]
    }
   ],
   "source": [
    "b = a[::2,:]\n",
    "b"
   ]
  },
  {
   "cell_type": "code",
   "execution_count": 86,
   "id": "8dea53a4",
   "metadata": {},
   "outputs": [
    {
     "data": {
      "text/plain": [
       "array([ 0,  5, 10, 15, 20, 25, 30, 35, 40, 45, 50, 55, 60, 65, 70, 75, 80,\n",
       "       85, 90, 95])"
      ]
     },
     "execution_count": 86,
     "metadata": {},
     "output_type": "execute_result"
    }
   ],
   "source": [
    "b= a[::5]\n",
    "b"
   ]
  },
  {
   "cell_type": "code",
   "execution_count": 87,
   "id": "140a41c0",
   "metadata": {},
   "outputs": [
    {
     "data": {
      "text/plain": [
       "10"
      ]
     },
     "execution_count": 87,
     "metadata": {},
     "output_type": "execute_result"
    }
   ],
   "source": [
    "index = np.argwhere(b==50)[0][0]\n",
    "index"
   ]
  },
  {
   "cell_type": "code",
   "execution_count": 88,
   "id": "f17976b5",
   "metadata": {},
   "outputs": [
    {
     "data": {
      "text/plain": [
       "array([[10]], dtype=int64)"
      ]
     },
     "execution_count": 88,
     "metadata": {},
     "output_type": "execute_result"
    }
   ],
   "source": [
    "index = np.argwhere(b==50)\n",
    "index"
   ]
  },
  {
   "cell_type": "code",
   "execution_count": 89,
   "id": "9b7cc9c0",
   "metadata": {
    "scrolled": true
   },
   "outputs": [
    {
     "data": {
      "text/plain": [
       "array([[ 8.,  2.,  3.,  8.],\n",
       "       [ 9.,  9.,  4.,  5.],\n",
       "       [ 0.,  2.,  6.,  1.],\n",
       "       [ 6.,  4.,  2.,  0.],\n",
       "       [ 2., 10.,  1.,  7.]])"
      ]
     },
     "execution_count": 89,
     "metadata": {},
     "output_type": "execute_result"
    }
   ],
   "source": [
    "a=np.round(10*np.random.rand(5,4))\n",
    "a"
   ]
  },
  {
   "cell_type": "code",
   "execution_count": 90,
   "id": "47392cc2",
   "metadata": {},
   "outputs": [
    {
     "data": {
      "text/plain": [
       "1.0"
      ]
     },
     "execution_count": 90,
     "metadata": {},
     "output_type": "execute_result"
    }
   ],
   "source": [
    "a[2,3]"
   ]
  },
  {
   "cell_type": "markdown",
   "id": "d9ad3532",
   "metadata": {},
   "source": [
    "la.inv(A): Computes the inverse of matrix A.\n",
    "la.det(A): Computes the determinant of matrix A.\n",
    "la.eig(A): Computes the eigenvalues and eigenvectors of matrix A.\n",
    "la.svd(A): Computes the singular value decomposition of matrix A.\n",
    "la.solve(A, b): Solves the linear system "
   ]
  },
  {
   "cell_type": "code",
   "execution_count": 91,
   "id": "dfeb7ffa",
   "metadata": {},
   "outputs": [],
   "source": [
    "import numpy.linalg as la "
   ]
  },
  {
   "cell_type": "code",
   "execution_count": 92,
   "id": "6bd7350d",
   "metadata": {},
   "outputs": [
    {
     "data": {
      "text/plain": [
       "array([[ 0.42072695, -1.11886992,  1.14605053],\n",
       "       [ 2.831343  , -3.81382927, -0.71541647],\n",
       "       [-2.29012472,  5.65415071, -0.23100768]])"
      ]
     },
     "execution_count": 92,
     "metadata": {},
     "output_type": "execute_result"
    }
   ],
   "source": [
    "la.inv(np.random.rand(3,3))   #la.inv() is a function from numpy.linalg (often imported as linalg or la) that computes the inverse of a square matrix."
   ]
  },
  {
   "cell_type": "code",
   "execution_count": 93,
   "id": "84303e9d",
   "metadata": {},
   "outputs": [
    {
     "data": {
      "text/plain": [
       "array([[ 8.,  2.,  3.,  8.],\n",
       "       [ 9.,  9.,  4.,  5.],\n",
       "       [ 0.,  2.,  6.,  1.],\n",
       "       [ 6.,  4.,  2.,  0.],\n",
       "       [ 2., 10.,  1.,  7.]])"
      ]
     },
     "execution_count": 93,
     "metadata": {},
     "output_type": "execute_result"
    }
   ],
   "source": [
    "a"
   ]
  },
  {
   "cell_type": "code",
   "execution_count": 94,
   "id": "b54bd82c",
   "metadata": {},
   "outputs": [],
   "source": [
    "a.sort(axis=0)"
   ]
  },
  {
   "cell_type": "code",
   "execution_count": 95,
   "id": "c5f0847e",
   "metadata": {},
   "outputs": [
    {
     "data": {
      "text/plain": [
       "array([[ 0.,  2.,  1.,  0.],\n",
       "       [ 2.,  2.,  2.,  1.],\n",
       "       [ 6.,  4.,  3.,  5.],\n",
       "       [ 8.,  9.,  4.,  7.],\n",
       "       [ 9., 10.,  6.,  8.]])"
      ]
     },
     "execution_count": 95,
     "metadata": {},
     "output_type": "execute_result"
    }
   ],
   "source": [
    "a"
   ]
  },
  {
   "cell_type": "code",
   "execution_count": null,
   "id": "33c8de17",
   "metadata": {},
   "outputs": [],
   "source": []
  }
 ],
 "metadata": {
  "kernelspec": {
   "display_name": "Python 3 (ipykernel)",
   "language": "python",
   "name": "python3"
  },
  "language_info": {
   "codemirror_mode": {
    "name": "ipython",
    "version": 3
   },
   "file_extension": ".py",
   "mimetype": "text/x-python",
   "name": "python",
   "nbconvert_exporter": "python",
   "pygments_lexer": "ipython3",
   "version": "3.11.5"
  }
 },
 "nbformat": 4,
 "nbformat_minor": 5
}
