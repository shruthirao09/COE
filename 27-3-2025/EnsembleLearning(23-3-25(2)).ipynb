{
 "cells": [
  {
   "cell_type": "code",
   "execution_count": 1,
   "id": "2c73e5bb",
   "metadata": {},
   "outputs": [],
   "source": [
    "#Ensemble Learning - Technique that combines the predictions from multiple machine learning algorithms together to make more accurate predictions than any individual model.\n",
    "  #2types - 1.Homogeneous ensemble - uses same type of learning algo , 2.Heterogeneous ensemble - uses different type of learning algo.\n",
    "  #->Bagging(Bootstrap Aggregation)-Procedure used to reduce the variance for that algo which has high variance(overfitting). -----EXAMPLE----- a.RANDOM FOREST \n",
    "  #->Boosting - It is a type of algo that converts weak learners into strong learners sequentially.Techniques:1.ADABOOST,2.GRADIENT BOOSTING,3.XGBOOST(uses decision trees-trains the models quickly)   "
   ]
  },
  {
   "cell_type": "code",
   "execution_count": 24,
   "id": "da9561a2",
   "metadata": {},
   "outputs": [],
   "source": [
    "from sklearn.ensemble import BaggingClassifier, AdaBoostClassifier, GradientBoostingClassifier, RandomForestClassifier\n",
    "from xgboost import XGBClassifier\n",
    "from sklearn.preprocessing import StandardScaler\n",
    "from sklearn.metrics import accuracy_score\n",
    "from sklearn.model_selection import train_test_split\n",
    "from sklearn.datasets import load_iris\n",
    "import pandas as pd\n",
    "\n",
    "\n",
    "#load dataset\n",
    "data = load_breast_cancer()\n",
    "x,y =data.data,data.target\n",
    "\n",
    "#split and scale\n",
    "x_train,x_test,y_train,y_test=train_test_split(x,y,test_size=0.2,random_state=42)\n",
    "x_train_scaled=scaler.fit_transform(x_train)\n",
    "x_test_scaled =scaler.transform(x_test)"
   ]
  },
  {
   "cell_type": "code",
   "execution_count": 25,
   "id": "4ad55370",
   "metadata": {},
   "outputs": [],
   "source": [
    "# Load dataset (Replace this with your actual dataset)\n",
    "data = load_iris()\n",
    "X = pd.DataFrame(data.data, columns=data.feature_names)  # Features\n",
    "y = data.target  # Labels"
   ]
  },
  {
   "cell_type": "code",
   "execution_count": 15,
   "id": "a9937126",
   "metadata": {},
   "outputs": [
    {
     "name": "stdout",
     "output_type": "stream",
     "text": [
      "C:\\Users\\CVR\\anaconda3\\python.exe\n"
     ]
    }
   ],
   "source": [
    "import sys\n",
    "print(sys.executable)"
   ]
  },
  {
   "cell_type": "code",
   "execution_count": 26,
   "id": "c323d9eb",
   "metadata": {},
   "outputs": [],
   "source": [
    "# Split dataset into training and testing sets\n",
    "X_train, X_test, y_train, y_test = train_test_split(X, y, test_size=0.2, random_state=42)"
   ]
  },
  {
   "cell_type": "code",
   "execution_count": 27,
   "id": "74944288",
   "metadata": {},
   "outputs": [],
   "source": [
    "# Standard Scaling\n",
    "scaler = StandardScaler()\n",
    "X_train_scaled = scaler.fit_transform(X_train)\n",
    "X_test_scaled = scaler.transform(X_test)"
   ]
  },
  {
   "cell_type": "code",
   "execution_count": 33,
   "id": "7cc9b8d7",
   "metadata": {},
   "outputs": [],
   "source": [
    "# Bagging\n",
    "bagging = BaggingClassifier(RandomForestClassifier(), n_estimators=50, random_state=42)\n",
    "bagging.fit(X_train_scaled, y_train)\n",
    "bagging_acc = accuracy_score(y_test, bagging.predict(X_test_scaled))\n",
    "\n",
    "# AdaBoost\n",
    "ada = AdaBoostClassifier(n_estimators=50, random_state=42)\n",
    "ada.fit(X_train_scaled, y_train)\n",
    "ada_acc = accuracy_score(y_test, ada.predict(X_test_scaled))\n",
    "\n",
    "# Gradient Boosting\n",
    "gb = GradientBoostingClassifier(n_estimators=100, learning_rate=0.1, random_state=42)\n",
    "gb.fit(X_train_scaled, y_train)\n",
    "gb_acc = accuracy_score(y_test, gb.predict(X_test_scaled))\n",
    "\n",
    "# XGBoost\n",
    "xg = XGBClassifier(random_state=42, eval_metric='logloss')\n",
    "xg.fit(X_train_scaled, y_train)\n",
    "xg_acc = accuracy_score(y_test, xg.predict(X_test_scaled))"
   ]
  },
  {
   "cell_type": "code",
   "execution_count": 34,
   "id": "9b3d77cf",
   "metadata": {},
   "outputs": [
    {
     "name": "stdout",
     "output_type": "stream",
     "text": [
      "Bagging Accuracy: 1.0\n",
      "AdaBoost Accuracy: 0.9333\n",
      "Gradient Boosting Accuracy: 1.0000\n",
      "XGBoost Accuracy: 1.0000\n"
     ]
    }
   ],
   "source": [
    "# Print all accuracies\n",
    "print(f\"Bagging Accuracy: {bagging_acc}\")\n",
    "print(f\"AdaBoost Accuracy: {ada_acc:.4f}\")\n",
    "print(f\"Gradient Boosting Accuracy: {gb_acc:.4f}\")\n",
    "print(f\"XGBoost Accuracy: {xg_acc:.4f}\")"
   ]
  },
  {
   "cell_type": "code",
   "execution_count": null,
   "id": "d6dbb780",
   "metadata": {},
   "outputs": [],
   "source": []
  }
 ],
 "metadata": {
  "kernelspec": {
   "display_name": "Python 3 (ipykernel)",
   "language": "python",
   "name": "python3"
  },
  "language_info": {
   "codemirror_mode": {
    "name": "ipython",
    "version": 3
   },
   "file_extension": ".py",
   "mimetype": "text/x-python",
   "name": "python",
   "nbconvert_exporter": "python",
   "pygments_lexer": "ipython3",
   "version": "3.11.5"
  }
 },
 "nbformat": 4,
 "nbformat_minor": 5
}
