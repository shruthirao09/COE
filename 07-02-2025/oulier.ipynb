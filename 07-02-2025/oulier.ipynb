{
 "cells": [
  {
   "cell_type": "code",
   "execution_count": 1,
   "id": "6dc8f6a3",
   "metadata": {},
   "outputs": [],
   "source": [
    "import numpy as np\n",
    "import pandas as pd\n",
    "import matplotlib.pyplot as plt\n",
    "import seaborn as sns\n",
    "from scipy.stats import zscore"
   ]
  },
  {
   "cell_type": "code",
   "execution_count": 3,
   "id": "d80fc773",
   "metadata": {},
   "outputs": [],
   "source": [
    "np.random.seed(42)\n",
    "data=np.random.normal(loc=50, scale=10, size=100)\n",
    "outliners= np.array([10,110,5,120])\n",
    "data=np.concatenate([data,outliners])"
   ]
  },
  {
   "cell_type": "code",
   "execution_count": 4,
   "id": "d440da07",
   "metadata": {},
   "outputs": [
    {
     "data": {
      "text/html": [
       "<div>\n",
       "<style scoped>\n",
       "    .dataframe tbody tr th:only-of-type {\n",
       "        vertical-align: middle;\n",
       "    }\n",
       "\n",
       "    .dataframe tbody tr th {\n",
       "        vertical-align: top;\n",
       "    }\n",
       "\n",
       "    .dataframe thead th {\n",
       "        text-align: right;\n",
       "    }\n",
       "</style>\n",
       "<table border=\"1\" class=\"dataframe\">\n",
       "  <thead>\n",
       "    <tr style=\"text-align: right;\">\n",
       "      <th></th>\n",
       "      <th>Values</th>\n",
       "    </tr>\n",
       "  </thead>\n",
       "  <tbody>\n",
       "    <tr>\n",
       "      <th>0</th>\n",
       "      <td>54.967142</td>\n",
       "    </tr>\n",
       "    <tr>\n",
       "      <th>1</th>\n",
       "      <td>48.617357</td>\n",
       "    </tr>\n",
       "    <tr>\n",
       "      <th>2</th>\n",
       "      <td>56.476885</td>\n",
       "    </tr>\n",
       "    <tr>\n",
       "      <th>3</th>\n",
       "      <td>65.230299</td>\n",
       "    </tr>\n",
       "    <tr>\n",
       "      <th>4</th>\n",
       "      <td>47.658466</td>\n",
       "    </tr>\n",
       "  </tbody>\n",
       "</table>\n",
       "</div>"
      ],
      "text/plain": [
       "      Values\n",
       "0  54.967142\n",
       "1  48.617357\n",
       "2  56.476885\n",
       "3  65.230299\n",
       "4  47.658466"
      ]
     },
     "execution_count": 4,
     "metadata": {},
     "output_type": "execute_result"
    }
   ],
   "source": [
    "df=pd.DataFrame(data,columns=['Values'])\n",
    "df.head()"
   ]
  },
  {
   "cell_type": "code",
   "execution_count": 5,
   "id": "ec7957d2",
   "metadata": {},
   "outputs": [
    {
     "data": {
      "text/html": [
       "<div>\n",
       "<style scoped>\n",
       "    .dataframe tbody tr th:only-of-type {\n",
       "        vertical-align: middle;\n",
       "    }\n",
       "\n",
       "    .dataframe tbody tr th {\n",
       "        vertical-align: top;\n",
       "    }\n",
       "\n",
       "    .dataframe thead th {\n",
       "        text-align: right;\n",
       "    }\n",
       "</style>\n",
       "<table border=\"1\" class=\"dataframe\">\n",
       "  <thead>\n",
       "    <tr style=\"text-align: right;\">\n",
       "      <th></th>\n",
       "      <th>Values</th>\n",
       "    </tr>\n",
       "  </thead>\n",
       "  <tbody>\n",
       "    <tr>\n",
       "      <th>99</th>\n",
       "      <td>47.654129</td>\n",
       "    </tr>\n",
       "    <tr>\n",
       "      <th>100</th>\n",
       "      <td>10.000000</td>\n",
       "    </tr>\n",
       "    <tr>\n",
       "      <th>101</th>\n",
       "      <td>110.000000</td>\n",
       "    </tr>\n",
       "    <tr>\n",
       "      <th>102</th>\n",
       "      <td>5.000000</td>\n",
       "    </tr>\n",
       "    <tr>\n",
       "      <th>103</th>\n",
       "      <td>120.000000</td>\n",
       "    </tr>\n",
       "  </tbody>\n",
       "</table>\n",
       "</div>"
      ],
      "text/plain": [
       "         Values\n",
       "99    47.654129\n",
       "100   10.000000\n",
       "101  110.000000\n",
       "102    5.000000\n",
       "103  120.000000"
      ]
     },
     "execution_count": 5,
     "metadata": {},
     "output_type": "execute_result"
    }
   ],
   "source": [
    "df.tail()"
   ]
  },
  {
   "cell_type": "code",
   "execution_count": 6,
   "id": "c954a8a3",
   "metadata": {},
   "outputs": [
    {
     "data": {
      "image/png": "[encoded data removed]",
      "text/plain": [
       "<Figure size 640x480 with 1 Axes>"
      ]
     },
     "metadata": {},
     "output_type": "display_data"
    }
   ],
   "source": [
    "plt.scatter(range(len(df)),df['Values'],color='blue',label='Data points')\n",
    "plt.axhline(y=df['Values'].mean(),color='red',linestyle='--',label='Mean')\n",
    "plt.xlabel(\"Index\")\n",
    "plt.ylabel(\"Values\")\n",
    "plt.title(\"Scatter Plot for Outliner Detection\")\n",
    "plt.legend()\n",
    "plt.show()"
   ]
  },
  {
   "cell_type": "code",
   "execution_count": 7,
   "id": "a67fdc39",
   "metadata": {},
   "outputs": [
    {
     "data": {
      "image/png": "[encoded data removed]",
      "text/plain": [
       "<Figure size 800x500 with 1 Axes>"
      ]
     },
     "metadata": {},
     "output_type": "display_data"
    }
   ],
   "source": [
    "plt.figure(figsize=(8,5))\n",
    "sns.boxplot(data=df,y='Values')\n",
    "plt.title('Box plot for Outliner  Detection')\n",
    "plt.show()"
   ]
  },
  {
   "cell_type": "markdown",
   "id": "7cc36c7c",
   "metadata": {},
   "source": [
    "**Z-score method**"
   ]
  },
  {
   "cell_type": "code",
   "execution_count": 9,
   "id": "ba88a2dd",
   "metadata": {},
   "outputs": [
    {
     "name": "stdout",
     "output_type": "stream",
     "text": [
      "     Values   Z-score Outlier_z Outlier_Z\n",
      "101   110.0  4.328173   Outlier   Outlier\n",
      "102     5.0 -3.175368   Outlier   Outlier\n",
      "103   120.0  5.042796   Outlier   Outlier\n"
     ]
    }
   ],
   "source": [
    "df['Z-score']=zscore(df['Values'])\n",
    "df['Outlier_Z']=df['Z-score'].apply(lambda x: 'Outlier' if abs(x)>3 else 'Normal')\n",
    "print(df[df['Outlier_Z']=='Outlier'])"
   ]
  },
  {
   "cell_type": "code",
   "execution_count": 22,
   "id": "7079d97a",
   "metadata": {},
   "outputs": [],
   "source": [
    "df=df.drop(columns=['Outlier_z'])"
   ]
  },
  {
   "cell_type": "markdown",
   "id": "f1a3221f",
   "metadata": {},
   "source": [
    "**Interquartile Range(IQR) Method** \n",
    "\n",
    "The IQR formula is : IQR=Q3-Q1\n",
    "\n",
    "Steps:\n",
    "\n",
    "1. Calculate Q1(25th percentile) and Q3(75th percentile)\n",
    "\n",
    "2. Compute IQR = Q3 - Q1\n",
    "\n",
    "3. Define lower & upper bounds:\n",
    "\n",
    "  **Lower bound = Q1-1.5xIQR**\n",
    "\n",
    "  **Upper bound = Q3+1.5xIQR**\n",
    "\n",
    "4. Any value outside these bounds is an outliner."
   ]
  },
  {
   "cell_type": "code",
   "execution_count": 23,
   "id": "d5e8079b",
   "metadata": {},
   "outputs": [
    {
     "name": "stdout",
     "output_type": "stream",
     "text": [
      "         Values   Z-score Outlier_Z Outlier_IQR\n",
      "74    23.802549 -1.831694    Normal     Outlier\n",
      "100   10.000000 -2.818056    Normal     Outlier\n",
      "101  110.000000  4.328173   Outlier     Outlier\n",
      "102    5.000000 -3.175368   Outlier     Outlier\n",
      "103  120.000000  5.042796   Outlier     Outlier\n"
     ]
    }
   ],
   "source": [
    "Q1 = df['Values'].quantile(0.25)\n",
    "Q3 = df['Values'].quantile(0.75)\n",
    "IQR = Q3-Q1\n",
    " \n",
    "lb=Q1-1.5*IQR\n",
    "ub=Q3+1.5*IQR\n",
    "\n",
    "df['Outlier_IQR']=df['Values'].apply(lambda x: 'Outlier' if (x < lb or x>ub) else 'Normal')\n",
    "print(df[df['Outlier_IQR']=='Outlier'])"
   ]
  },
  {
   "cell_type": "markdown",
   "id": "fdf20f58",
   "metadata": {},
   "source": [
    "**Finding Outliers Using the IQR Method with a 5-Number Summary**\n",
    "The 5-number summary consists of:\n",
    " \n",
    "Minimum (Q0) → The smallest value in the dataset.\n",
    " \n",
    "First Quartile (Q1) → The 25th percentile (lower quartile).\n",
    " \n",
    "Median (Q2) → The 50th percentile (middle value).\n",
    " \n",
    "Third Quartile (Q3) → The 75th percentile (upper quartile).\n",
    " \n",
    "Maximum (Q4) → The largest value in the dataset."
   ]
  },
  {
   "cell_type": "markdown",
   "id": "80dc8311",
   "metadata": {},
   "source": [
    "The Interquartile Range (IQR) is calculated as:\n",
    " \n",
    "IQR=Q3−Q1\n",
    " \n",
    "Any value outside the range:\n",
    " \n",
    "[Q1−1.5×IQR,Q3+1.5×IQR]  is considered an outlier.\n",
    " \n",
    "**Let's generate a dataset, compute the 5-number summary, and find the outliers using the IQR**\n",
    " "
   ]
  },
  {
   "cell_type": "code",
   "execution_count": 27,
   "id": "b864d1bb",
   "metadata": {},
   "outputs": [
    {
     "name": "stdout",
     "output_type": "stream",
     "text": [
      "5-Number Summary:\n",
      "Min: 1.0, Q1:43.874401021766715, Median(Q2):48.73043708220287,Q3:55.00852473036764, Max:120.0\n",
      "IQR: 11.134123708600924\n",
      "Lower Bound: 27.17321545886533, Upper Bound: 71.70971029326903\n",
      "Outliers:[ 23.80254896  10.         110.           1.         120.        ]\n"
     ]
    }
   ],
   "source": [
    "np.random.seed(42)\n",
    "data=np.random.normal(loc=50, scale=10, size=100)\n",
    "ot=np.array([10,110,1,120])\n",
    "data=np.concatenate([data,ot])\n",
    "\n",
    "Q1=np.percentile(data,25)\n",
    "Q2=np.median(data)\n",
    "Q3=np.percentile(data,75)\n",
    "minv=np.min(data)\n",
    "maxv=np.max(data)\n",
    "\n",
    "IQR=Q3 - Q1\n",
    "\n",
    "lb=Q1-1.5*IQR\n",
    "ub=Q3+1.5*IQR\n",
    "\n",
    "ot=data[(data<lb)|(data>ub)]\n",
    "\n",
    "print(f\"5-Number Summary:\\nMin: {minv}, Q1:{Q1}, Median(Q2):{Q2},Q3:{Q3}, Max:{maxv}\")\n",
    "print(f\"IQR: {IQR}\")\n",
    "print(f\"Lower Bound: {lb}, Upper Bound: {ub}\")\n",
    "print(f\"Outliers:{ot}\")"
   ]
  },
  {
   "cell_type": "code",
   "execution_count": null,
   "id": "2d647c8a",
   "metadata": {},
   "outputs": [],
   "source": []
  }
 ],
 "metadata": {
  "kernelspec": {
   "display_name": "Python 3 (ipykernel)",
   "language": "python",
   "name": "python3"
  },
  "language_info": {
   "codemirror_mode": {
    "name": "ipython",
    "version": 3
   },
   "file_extension": ".py",
   "mimetype": "text/x-python",
   "name": "python",
   "nbconvert_exporter": "python",
   "pygments_lexer": "ipython3",
   "version": "3.11.5"
  }
 },
 "nbformat": 4,
 "nbformat_minor": 5
}
